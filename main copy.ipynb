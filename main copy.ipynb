{
 "cells": [
  {
   "cell_type": "markdown",
   "id": "264fded0a9564247",
   "metadata": {},
   "source": [
    "### This notebook aims to numerically mimic the QPT process for a few-qubit-quantum-gate based on the qiskit simulator, where the realistic noise and error are taken into account.\n",
    "\n",
    "Notes:  1.QPT for the one-qubit channel costs a few seconds on a laptop; less than 2 minutes for 2-q channel; more then ten hours for 3-q channel.\n",
    "2. the initial states and rotations setup in QTP.py should be consistant with experiments (numerics ).\n"
   ]
  },
  {
   "cell_type": "code",
   "execution_count": 1,
   "id": "initial_id",
   "metadata": {
    "ExecuteTime": {
     "end_time": "2025-01-15T20:45:18.744120Z",
     "start_time": "2025-01-15T20:45:18.710552Z"
    }
   },
   "outputs": [],
   "source": [
    "#====================some useful functions==========================\n",
    "\n",
    "from QPT import QPT\n",
    "from QPT import *\n",
    "from numExp_qiskit import NumExp\n",
    "from joblib import Parallel, delayed\n",
    "import cvxpy as cp\n",
    "import numpy as np\n",
    "import matplotlib.pyplot as plt\n",
    "import itertools, random\n",
    "from qutip import Qobj\n",
    "from qutip.random_objects import rand_super_bcsz, rand_kraus_map, rand_unitary\n",
    "from qiskit.quantum_info import random_unitary, Operator, average_gate_fidelity, Kraus, Chi, Choi\n",
    "from scipy.linalg import sqrtm\n",
    "\n",
    "\n",
    "def generate_valid_cptp_kraus_operators(n_qubits, num_kraus):\n",
    "    \"\"\"\n",
    "    Generate a set of Kraus operators that satisfy the CPTP condition, ensuring ∑ K_i† K_i = I.\n",
    "\n",
    "    Parameters:\n",
    "    - n_qubits (int): Number of qubits\n",
    "    - num_kraus (int): Number of Kraus operators to generate\n",
    "\n",
    "    Returns:\n",
    "    - list of numpy.ndarray: List of Kraus operators\n",
    "    \"\"\"\n",
    "    # Define Pauli matrices for single qubits\n",
    "    pauli = [qeye(2), sigmax(), sigmay(), sigmaz()]\n",
    "    \n",
    "    # Generate the tensor product of Pauli matrices for all possible combinations of qubits\n",
    "    Elist = [tensor(*op).full() for op in itertools.product(pauli, repeat=n_qubits)]\n",
    "    \n",
    "    # Create Kraus operators by summing weighted Pauli matrices\n",
    "    kraus_ops = [\n",
    "        np.sum([(np.random.randn() + 1j * np.random.randn()) * E for E in Elist], axis=0)\n",
    "        for _ in range(num_kraus)\n",
    "    ]\n",
    "    \n",
    "    # Ensure the CPTP condition: ∑ K_i† K_i = I\n",
    "    sum_kdag_k = sum(K.conj().T @ K for K in kraus_ops)\n",
    "    sqrt_inv = np.linalg.inv(sqrtm(sum_kdag_k))\n",
    "    \n",
    "    # Normalize the Kraus operators to satisfy CPTP\n",
    "    kraus_ops = [K @ sqrt_inv for K in kraus_ops]\n",
    "    \n",
    "    # Verify the CPTP condition again\n",
    "    sum_kraus = sum(K.conj().T @ K for K in kraus_ops)\n",
    "    \n",
    "    if not np.allclose(sum_kraus, np.eye(2**n_qubits), rtol=1e-5):\n",
    "        raise ValueError(\"The generated Kraus operators do not satisfy the CPTP condition!\")\n",
    "    \n",
    "    # If only one Kraus operator is requested, generate a random unitary operator\n",
    "    if num_kraus == 1:\n",
    "        kraus_ops = [rand_unitary(2 ** n_qubits).full()]\n",
    "    \n",
    "    return kraus_ops\n",
    "\n",
    "def get_chiF(chi1, chi2):\n",
    "    \"\"\"Calculate the fidelity between two quantum processes represented by χ matrices.\"\"\"\n",
    "    sqrt_chi1 = sqrtm(chi1)\n",
    "    return np.real(np.trace(sqrtm(sqrt_chi1 @ chi2 @ sqrt_chi1))**2)\n",
    "\n",
    "\n",
    "def get_exp_plot(measure_data,N):\n",
    "  \n",
    "    '''\n",
    "    Visualizing the measurement data for a N-qubit gate (only for 1-q gate)\n",
    "    '''\n",
    "\n",
    "    if N<2:\n",
    "        rotation = [\"I\", \"ry(90)\", 'rx(90)']\n",
    "        initial_state =['|0>','|+>','|->','|1>']\n",
    "        observables =['|0><0|','|1><1|']\n",
    "        cir_lab = list(product(initial_state,rotation))\n",
    "        \n",
    "        z = measure_data  \n",
    "        th = 0\n",
    "        ylabel = []\n",
    "        plt.figure()\n",
    "        fig, ax = plt.subplots(figsize=(4,8))\n",
    "        ax.imshow(z)\n",
    "        ax.set_xticks(np.arange(len(observables)), labels=observables)\n",
    "        ax.tick_params(top=True, labeltop=True, bottom=False, labelbottom=False)\n",
    "        for j in range(len(z)):\n",
    "            for k in range(len(z[0])):\n",
    "                text = ax.text(k,th, round(z[th,k], 3), ha=\"center\", va=\"center\", color=\"w\")\n",
    "            th+=1\n",
    "            ylabel.append(cir_lab[j][0]+','+cir_lab[j][1])\n",
    "        ax.set_yticks(np.arange(len(ylabel)), labels=ylabel)\n",
    "        plt.show()\n",
    "    else:\n",
    "        print('It is only for N=1')\n",
    " \n",
    "\n"
   ]
  },
  {
   "cell_type": "code",
   "execution_count": 52,
   "id": "c339f46f",
   "metadata": {},
   "outputs": [
    {
     "data": {
      "text/plain": [
       "1.0903657489734477"
      ]
     },
     "execution_count": 52,
     "metadata": {},
     "output_type": "execute_result"
    }
   ],
   "source": [
    "np.random.normal(loc=1, scale=0.2, size=1)[0]"
   ]
  },
  {
   "cell_type": "markdown",
   "id": "aaa0abf0",
   "metadata": {},
   "source": [
    "### The measurement data for a complete QPT of N-qubit quantum process\n",
    "\n",
    "Example 1: the identity channel"
   ]
  },
  {
   "cell_type": "code",
   "execution_count": 2,
   "id": "2b504c77",
   "metadata": {},
   "outputs": [
    {
     "name": "stdout",
     "output_type": "stream",
     "text": [
      "p_reset: 0.0 p_meas: 0.0 p_unitary: 0.0\n",
      "It is only for N=1\n"
     ]
    }
   ],
   "source": [
    "\"\"\"\n",
    "Parameters:\n",
    "- N (int): Number of qubits\n",
    "- p_reset (float): State preparation (SP) error\n",
    "- p_meas (float): Measurement (M) error\n",
    "- random_channel (list, optional): Random quantum channel\n",
    "- num_kraus (int): the number of Kraus operator\n",
    "\"\"\"\n",
    "\n",
    "# Obtain the measurement data for a randomly sampled quantum channel\n",
    "N, p_tot,num_kraus = 2, 0.000,1 \n",
    "rdw = np.random.random(1)[0] # the weight coefficient\n",
    "p_reset = p_tot * rdw\n",
    "p_meas = p_tot* (1 - rdw)\n",
    "p_unitay = p_tot\n",
    "print('p_reset:', p_reset, 'p_meas:', p_meas,'p_unitary:', p_unitay)\n",
    "random_channel = generate_valid_cptp_kraus_operators(n_qubits=N, num_kraus=num_kraus)\n",
    "\n",
    "# =========the numeric simulator===========#\n",
    "Uid = np.identity(2 ** N)\n",
    "# p_reset, p_meas, = 0.0,0\n",
    "qiskit_sim = NumExp()\n",
    "# An example: identity channel for illustration\n",
    "measure_data = qiskit_sim.get_measurement(N, p_reset, p_meas,p_unitay,[Uid] )\n",
    "\n",
    "get_exp_plot(measure_data,N)"
   ]
  },
  {
   "cell_type": "markdown",
   "id": "45114066",
   "metadata": {},
   "source": [
    "### The standard QPT and EM-QPT"
   ]
  },
  {
   "cell_type": "code",
   "execution_count": null,
   "id": "d697daac",
   "metadata": {},
   "outputs": [
    {
     "name": "stdout",
     "output_type": "stream",
     "text": [
      "p_reset: 8.754122630162648e-05 p_meas: 1.2458773698373526e-05 p_unitary: 0.0001\n",
      "Fidelity (no EM): 0.991511480689556\n",
      "Fidelity (with EMa): 0\n",
      "Fidelity (with EMb): 0\n",
      "Fidelity (with EMc): 0.2622862481549507\n"
     ]
    }
   ],
   "source": [
    "p_tot,num_kraus = 0.0001,1# \n",
    "rdw = np.random.random(1)[0] # the weight coefficient for SPAM error\n",
    "p_reset = p_tot * rdw\n",
    "p_meas = p_tot* (1 - rdw)\n",
    "p_unitay = p_tot\n",
    "print('p_reset:', p_reset, 'p_meas:', p_meas,'p_unitary:', p_unitay)\n",
    "random_channel = generate_valid_cptp_kraus_operators(n_qubits=N, num_kraus=num_kraus)\n",
    "\n",
    "# Define the Hilbert space dimension\n",
    "ddim = [[2] * N, [2] * N]\n",
    "\n",
    "# (1) the QPT experiments of identity\n",
    "measure_data_id = qiskit_sim.get_measurement(N, p_reset, p_meas, p_tot,[np.identity(2 ** N)])\n",
    "\n",
    "# (2) the identity QPT\n",
    "qiskit_sim = NumExp()\n",
    "qptid = QPT(N, measure_data_id, random_channel)\n",
    "chi_id_pred = qptid.get_chi_LS_X(qptid.rho_in_idea, qptid.observables)\n",
    "\n",
    "\n",
    "# (3) the standard QPT \n",
    "measure_data = qiskit_sim.get_measurement(N, p_reset, p_meas,p_tot, random_channel)\n",
    "qpt0 = QPT(N, measure_data, random_channel)\n",
    "chi_pred = qpt0.get_chi_LS_X(qpt0.rho_in_idea, qpt0.observables) \n",
    "chi_idea = qiskit_sim.get_idea_chi_matrix(random_channel, N)\n",
    "\n",
    "# (4) the error-mitigated  QPT \n",
    "proj_noisy = qpt0.get_noisy_proj_1(chi_id_pred)\n",
    "rho_in_noisy = qpt0.get_noisy_state(chi_id_pred)\n",
    "\n",
    "#rho_out_idea = [Qobj(np.sum([K @ rho.full() @ K.conj().T for K in random_channel], axis=0),dims=ddim,) for rho in qpt0.rho_in_idea]\n",
    "\n",
    "chi_EM_a = qpt0.get_chi_LS_X(rho_in_noisy, qpt0.observables)\n",
    "chi_EM_b = qpt0.get_chi_LS_X(qpt0.rho_in_idea, proj_noisy)\n",
    "chi_EM_c = qpt0.get_chi_LS_X(rho_in_noisy, proj_noisy)\n",
    "\n",
    "FF_noEM = get_chiF(chi_pred, chi_idea)\n",
    "print(f\"Fidelity (no EM): {FF_noEM}\")\n",
    "\n",
    "FF_EM_a =  get_chiF(chi_EM_a, chi_idea)\n",
    "print(f\"Fidelity (with EMa): {FF_EM_a}\")\n",
    "\n",
    "FF_EM_b = get_chiF(chi_EM_b, chi_idea)\n",
    "print(f\"Fidelity (with EMb): {FF_EM_b}\")\n",
    "\n",
    "FF_EM_c = get_chiF(chi_EM_c, chi_idea)\n",
    "print(f\"Fidelity (with EMc): {FF_EM_c}\")\n"
   ]
  },
  {
   "cell_type": "code",
   "execution_count": null,
   "id": "e661eead",
   "metadata": {},
   "outputs": [],
   "source": []
  },
  {
   "cell_type": "markdown",
   "id": "6b9f38f7",
   "metadata": {},
   "source": [
    "### Plot the Chi matrix and revised probes"
   ]
  },
  {
   "cell_type": "code",
   "execution_count": 19,
   "id": "975ca83c",
   "metadata": {},
   "outputs": [
    {
     "data": {
      "image/png": "[encoded data removed]",
      "text/plain": [
       "<Figure size 400x400 with 8 Axes>"
      ]
     },
     "metadata": {},
     "output_type": "display_data"
    }
   ],
   "source": [
    "# the \\chi matrix\n",
    "zlist =[np.real(chi_pred),np.imag(chi_pred),np.real(chi_EM_c),np.imag(chi_EM_c)]\n",
    "titlist = [r'$Re(\\chi_{std})$',r'$Im(\\chi_{std})$',r'$Re(\\chi_{EMc})$',r'$Im(\\chi_{EMc})$']\n",
    "\n",
    "plt.figure(figsize=(4,4))\n",
    "for i in range(4):\n",
    "    plt.subplot(2,2,i+1)\n",
    "    plt.imshow(zlist[i])\n",
    "    plt.colorbar()\n",
    "    plt.title(titlist[i])\n",
    "plt.tight_layout()\n",
    "\n"
   ]
  },
  {
   "cell_type": "code",
   "execution_count": 20,
   "id": "96c2775f",
   "metadata": {},
   "outputs": [
    {
     "data": {
      "text/plain": [
       "Text(0, 0.5, '$F(\\\\rho_{i},\\\\bar{\\\\rho_i})$')"
      ]
     },
     "execution_count": 20,
     "metadata": {},
     "output_type": "execute_result"
    },
    {
     "data": {
      "image/png": "[encoded data removed]",
      "text/plain": [
       "<Figure size 400x300 with 1 Axes>"
      ]
     },
     "metadata": {},
     "output_type": "display_data"
    }
   ],
   "source": [
    "# the fidelty between the ideal and revised input states for a given error rate \n",
    "Flist = [get_chiF(rho_in_noisy[i].full(),qpt0.rho_in_idea[i].full()) for i in range(len(rho_in_noisy))]\n",
    "plt.figure(figsize=(4,3))\n",
    "plt.plot(Flist)\n",
    "plt.title('p_{tot}='+str(p_tot))\n",
    "plt.xlabel('index of initial states ')\n",
    "plt.ylabel(r'$F(\\rho_{i},\\bar{\\rho_i})$')"
   ]
  },
  {
   "cell_type": "code",
   "execution_count": null,
   "id": "3c900a37",
   "metadata": {},
   "outputs": [],
   "source": [
    "#### 这是为了画图收集数据\n",
    "def get_result(N,p_tot,p_unitary,num_kraus):\n",
    "    num_kraus =  1#np.random.randint(0,2**(2*N)+1)+1#1#\n",
    "    #p_tot,num_kraus = 0.0,1 # \n",
    "    rdw = 0.5#np.random.random(1)[0] # the weight coefficient for SPAM error\n",
    "    p_reset = p_tot * rdw\n",
    "    p_meas = p_tot* (1 - rdw)\n",
    "    #print('p_reset:', p_reset, 'p_meas:', p_meas)\n",
    "    random_channel = generate_valid_cptp_kraus_operators(n_qubits=N, num_kraus=num_kraus)\n",
    "    qiskit_sim = NumExp()\n",
    "    # (1) the QPT experiments of identity\n",
    "    measure_data_id = qiskit_sim.get_measurement(N, p_reset, p_meas,p_unitary, [np.identity(2 ** N)])\n",
    "    # (2) the identity QPT\n",
    "    qptid = QPT(N, measure_data_id, random_channel)\n",
    "    chi_id_pred = qptid.get_chi_LS_X(qptid.rho_in_idea, qptid.observables)\n",
    "    # (3) the standard QPT \n",
    "    measure_data = qiskit_sim.get_measurement(N, p_reset, p_meas,p_unitary, random_channel)\n",
    "    qpt0 = QPT(N, measure_data, random_channel)\n",
    "    chi_pred = qpt0.get_chi_LS_X(qpt0.rho_in_idea, qpt0.observables) \n",
    "    chi_idea = qiskit_sim.get_idea_chi_matrix(random_channel, N)\n",
    "    # (4) the error-mitigated  QPT \n",
    "    proj_noisy = qpt0.get_noisy_proj_1(chi_id_pred)\n",
    "    rho_in_noisy = qpt0.get_noisy_state(chi_id_pred)\n",
    "    #rho_out_idea = [Qobj(np.sum([K @ rho.full() @ K.conj().T for K in random_channel], axis=0),dims=ddim,) for rho in qpt0.rho_in_idea]\n",
    "\n",
    "    chi_EM_a = qpt0.get_chi_LS_X(rho_in_noisy, qpt0.observables)\n",
    "    chi_EM_b = []#qpt0.get_chi_LS_X(qpt0.rho_in_idea, proj_noisy)\n",
    "    chi_EM_c = []#qpt0.get_chi_LS_X(rho_in_noisy, proj_noisy)\n",
    "    return chi_idea,chi_pred,chi_EM_a,chi_EM_b,chi_EM_c\n",
    "\n",
    "def get_resultn(N,p_tot,p_unitary,num_kraus):\n",
    "    FF_noEMlist,FF_EM_alist,FF_EM_blist,FF_EM_clist =[],[],[],[]\n",
    "    for i in range(10):\n",
    "        chi_idea,chi_pred,chi_EM_a,chi_EM_b,chi_EM_c = get_result(N,p_tot,p_unitary,num_kraus)\n",
    "        FF_noEM = get_chiF(chi_pred, chi_idea);FF_noEMlist.append(FF_noEM)\n",
    "        FF_EM_a = 0#get_chiF(chi_EM_a, chi_idea);\n",
    "        FF_EM_alist.append(FF_EM_a)\n",
    "        FF_EM_b = 0#get_chiF(chi_EM_b, chi_idea);\n",
    "        FF_EM_blist.append(FF_EM_b)\n",
    "        FF_EM_c = get_chiF(chi_EM_c, chi_idea);FF_EM_clist.append(FF_EM_c)\n",
    "    return [FF_noEMlist,FF_EM_alist,FF_EM_blist,FF_EM_clist]#\n",
    "\n",
    "plist = np.linspace(0,0.2,15)\n",
    "plist1 = np.linspace(0,0.4,15)\n",
    "#num_kraus_list = [1]#np.arange(2**(2*N))\n",
    "N = 2\n",
    "F_cell = []\n",
    "#for p in plist:\n",
    "F_cell_p = Parallel(n_jobs=10, verbose=5)(delayed(get_resultn)(N,p_tot,p_u,num_kraus) for p_tot in plist for p_u in plist1)\n",
    "\n",
    "#F_cell.append(F_cell_p)\n",
    "#np.savez('./F_cell_'+str(N)+'q'+''+str(num_kraus)+'_kraus.npz',F_cell_p=F_cell_p,plist=plist)\n",
    "\n",
    "\n",
    "plt.figure()\n",
    "lenth = 15*15\n",
    "F_cell_p1 =np.log10(1-np.array(F_cell_p))\n",
    "F_cell_noEM = np.array([np.average(F_cell_p1[i,0,:]) for i in range(lenth)]).reshape(int(np.sqrt(lenth)),int(np.sqrt(lenth)))\n",
    "F_cell_EMc = np.array([np.average(F_cell_p1[i,3,:]) for i in range(lenth)]).reshape(int(np.sqrt(lenth)),int(np.sqrt(lenth)))\n",
    "#F_cell_noEM,F_cell_EMc = np.log10(1-F_cell_noEM),np.log10(1-F_cell_EMc)\n",
    "vi,vx = -3,0\n",
    "plt.subplot(1,2,1)\n",
    "plt.pcolor(plist ,plist1,F_cell_noEM.T,vmin=vi,vmax=vx)\n",
    "plt.colorbar()\n",
    "plt.ylabel('coherent error')\n",
    "plt.xlabel('incoherent error')\n",
    "plt.subplot(1,2,2)\n",
    "plt.pcolor(plist ,plist1,F_cell_EMc.T,vmin=vi,vmax=vx)\n",
    "plt.colorbar()\n",
    "plt.ylabel('coherent error')\n",
    "plt.xlabel('incoherent error')\n",
    "\n",
    "# F_cell_p = np.array(F_cell_p)\n",
    "# iF_cell_p = F_cell_p##np.log10(1-F_cell_p)\n",
    "# for i in range(4):\n",
    "#     F_list = np.array([np.average(FF[i,:]) for FF in iF_cell_p])\n",
    "#     F_list_std = np.array([np.std(FF[i,:]) for FF in iF_cell_p])\n",
    "#     plt.errorbar(plist,y = F_list,yerr = F_list_std)\n",
    "#plt.ylim([-5,-1])"
   ]
  }
 ],
 "metadata": {
  "kernelspec": {
   "display_name": "forQPT",
   "language": "python",
   "name": "python3"
  },
  "language_info": {
   "codemirror_mode": {
    "name": "ipython",
    "version": 3
   },
   "file_extension": ".py",
   "mimetype": "text/x-python",
   "name": "python",
   "nbconvert_exporter": "python",
   "pygments_lexer": "ipython3",
   "version": "3.11.11"
  }
 },
 "nbformat": 4,
 "nbformat_minor": 5
}
