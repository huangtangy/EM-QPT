{
 "cells": [
  {
   "cell_type": "markdown",
   "id": "264fded0a9564247",
   "metadata": {},
   "source": [
    "### This notebook aims to train a VAE model\n"
   ]
  },
  {
   "cell_type": "code",
   "execution_count": 19,
   "id": "bf5a1179",
   "metadata": {},
   "outputs": [],
   "source": [
    "#====================some useful functions==========================\n",
    "\n",
    "from QPT import QPT\n",
    "from QPT import *\n",
    "from numExp_qiskit import NumExp\n",
    "from joblib import Parallel, delayed\n",
    "import cvxpy as cp\n",
    "import numpy as np\n",
    "import matplotlib.pyplot as plt\n",
    "import itertools, random\n",
    "from qutip import Qobj\n",
    "from qutip.random_objects import rand_super_bcsz, rand_kraus_map, rand_unitary\n",
    "from qiskit.quantum_info import random_unitary, Operator, average_gate_fidelity, Kraus, Chi, Choi\n",
    "from scipy.linalg import sqrtm\n",
    "import random\n",
    "from os import listdir\n",
    "from joblib import Parallel,delayed\n",
    "import matplotlib.pyplot as plt\n",
    "from qutip.random_objects import rand_super_bcsz, rand_kraus_map, rand_unitary\n",
    "from brokenaxes import brokenaxes\n",
    "\n",
    "from functions import generate_valid_cptp_kraus_operators,get_chiF"
   ]
  },
  {
   "cell_type": "markdown",
   "id": "ea5461a4",
   "metadata": {},
   "source": [
    "### (1). Perparing the training data with qiskit simulator"
   ]
  },
  {
   "cell_type": "code",
   "execution_count": 20,
   "id": "8b9c8ef7",
   "metadata": {},
   "outputs": [
    {
     "name": "stdout",
     "output_type": "stream",
     "text": [
      "0\n"
     ]
    }
   ],
   "source": [
    "# ================================================================\n",
    "# ========= perpare the training data (minutes for N=1)=================#\n",
    "# ================================================================\n",
    "\n",
    "def get_chi_num(N,num_kraus,p_inco,p_coh):\n",
    "    '''\n",
    "    p_inco: coherent error strength (depolization channel);p_coh: coherent error (unitary uncertaintity)\n",
    "    get chi matrix for a given quantum channel, based on the qiskit simulator\n",
    "    return: the chi for identity process, std QPT, ideal QPT\n",
    "    '''\n",
    "\n",
    "    rdw = np.random.random(1)[0] # the weight coefficient\n",
    "    p_reset = p_inco * rdw\n",
    "    p_meas = p_inco*(1-rdw)\n",
    "    \n",
    "    random_channel = generate_valid_cptp_kraus_operators(n_qubits=N, num_kraus=num_kraus)\n",
    "    # Define the Hilbert space dimension\n",
    "    qiskit_sim = NumExp()\n",
    "    Uid = np.identity(2 ** N)\n",
    "    measure_data_id = qiskit_sim.get_measurement(N, p_reset, p_meas,p_coh, [Uid])\n",
    "    \n",
    "    qptid = QPT(N, measure_data_id, random_channel)\n",
    "    chi_id_pred = qptid.get_chi_LS_X(qptid.rho_in_idea, qptid.observables)\n",
    "    newdata = np.array([np.real(chi_id_pred),np.imag(chi_id_pred)])\n",
    "    return newdata#,chi_pred,chi_idea \n",
    "\n",
    "N_train = 2 \n",
    "N, p_tot,num_kraus = 1, 0.1,1 \n",
    " \n",
    "\n",
    "## Notes: time cost for the 1000 training data of the whole plist: 2hours(N=1),12hour(N=2) without parallel computing.\n",
    "Fcell_allp = []\n",
    "data_id_VAE = np.zeros(shape=(N_train,2,2**(2*N),2**(2*N)))\n",
    "for i in range(N_train):#N_train\n",
    "    if i%100==0:\n",
    "        print(i)\n",
    "    quantum_channel = generate_valid_cptp_kraus_operators(n_qubits=N, num_kraus=num_kraus)\n",
    "    p_inco,p_coh = p_tot,p_tot\n",
    "    newdata = get_chi_num(N,num_kraus,p_inco,p_coh)\n",
    "    data_id_VAE[i,::]=newdata\n",
    "    Fcell_allp.append(data_id_VAE)\n",
    "    \n",
    "# or using the parallel setups\n",
    "#Fcell_allp = Parallel(n_jobs=10, verbose=5)(delayed(get_chi_num)(N,num_kraus,p_tot) for i in range(N_train))\n",
    "#np.savez('./VAE/fig_'+str(N)+'q_1kraus_chi_new.npz',data_id_VAE=data_id_VAE,plist=plist)\n"
   ]
  },
  {
   "cell_type": "markdown",
   "id": "31ad7665",
   "metadata": {},
   "source": [
    "### (2). Train a VAE model"
   ]
  },
  {
   "cell_type": "code",
   "execution_count": 21,
   "id": "9b859864",
   "metadata": {},
   "outputs": [],
   "source": [
    "from functions import EM_QPT,is_CPTP_chi_np,clean_cholesky,density_matrix_from_T,reshape_expdata\n",
    "import torch\n",
    "import torch.nn.functional as F\n",
    "import random\n",
    "#====loading the training data (from experiment or numerics)====\n",
    "\n",
    "if N ==1:\n",
    "    from VAE.model import *\n",
    "    data_chi = np.load('chi_1q_1kraus_log_2d_selected.npz')#('./VAE/fig_1q_1kraus_chi.npz')\n",
    "    Nshot = 10000\n",
    "elif N==2:\n",
    "    from VAE.model_2q import *\n",
    "    data_chi = np.load('chi_2q_1kraus_log_2d_selected0_4.npz')\n",
    "    Nshot = 10000\n",
    "else:\n",
    "    print('wrong N')\n",
    "\n",
    "\n",
    "def loss_function(recon_x, x, mu, logvar):\n",
    "    BCE = F.mse_loss(recon_x, x, reduction='sum')\n",
    "    KL_div = -0.5 * torch.sum(1 + logvar - mu.pow(2) - logvar.exp())\n",
    "    loss = BCE + KL_div\n",
    "    return loss\n",
    "\n",
    "# 训练 VAE\n",
    "def train_vae(model, train_loader, optimizer, epochs=10, device='cuda'):\n",
    "    model.train()\n",
    "    losslist=[]\n",
    "    for epoch in range(epochs):\n",
    "        train_loss = 0\n",
    "        for batch_idx, (data,) in enumerate(train_loader):\n",
    "            data = data.to(device)\n",
    "            optimizer.zero_grad()\n",
    "            recon_batch, mu, logvar = model(data)\n",
    "            loss = loss_function(recon_batch, data, mu, logvar )\n",
    "            loss.backward()\n",
    "            train_loss += loss.item()\n",
    "            optimizer.step()\n",
    "        losslist.append(train_loss)\n",
    "        if epoch%20==0:\n",
    "            print(f\"Epoch {epoch + 1}, Loss: {train_loss / len(train_loader.dataset):.5f}\")\n",
    "    return  losslist\n",
    "# 测试 VAE\n",
    "\n",
    "def test_vae(model, test_loader, device='cuda'):\n",
    "    z_space = []\n",
    "    model.eval()\n",
    "    test_loss = 0\n",
    "    with torch.no_grad():\n",
    "        for data, in test_loader:\n",
    "            #data = data.to(device)\n",
    "            recon, mu, logvar = model(data)# mu is the latant vector\n",
    "            #z = model.reparameterize(mu, logvar)\n",
    "            z_space.append(mu.numpy())\n",
    "            loss = loss_function(recon, data, mu, logvar)\n",
    "            test_loss += loss.item()\n",
    "    print(f\"Test Loss: {test_loss / len(test_loader.dataset):.4f}\")\n",
    "    return z_space\n",
    "# 运行 VAE 训练和测试\n"
   ]
  },
  {
   "cell_type": "markdown",
   "id": "06f48a15",
   "metadata": {},
   "source": [
    "### (3) Loading the training data\n",
    "Notes: here we provides the numeric example, where the experiments data should be followed in the same way."
   ]
  },
  {
   "cell_type": "code",
   "execution_count": 22,
   "id": "010b9364",
   "metadata": {},
   "outputs": [
    {
     "name": "stdout",
     "output_type": "stream",
     "text": [
      "the size of training data: 13 1000 4 4\n",
      "(13, 1000, 4, 4)\n",
      "the traning data for 13 different error setups: (13, 1000, 2, 4, 4)\n"
     ]
    }
   ],
   "source": [
    "\n",
    "def from_chi_to_NN(chi_cell):\n",
    "    a,b,c,d =np.shape(chi_cell)\n",
    "    new_chi_cell = []\n",
    "    for th in range(a):\n",
    "        for j in range(b):\n",
    "            chi = chi_cell[th,j,:,:]\n",
    "            realpart,imgpart  = np.real(chi),np.imag(chi)\n",
    "            realpart[np.abs(realpart) < 1/Nshot] = 0.0 # the filter to reduce the small noise below statistic theshold\n",
    "            imgpart[np.abs(imgpart) < 1/Nshot] = 0.0\n",
    "            new_chi_cell.append([realpart,imgpart])\n",
    "    new_chi_cell = np.array(new_chi_cell).reshape(a,b,2,c,d)\n",
    "    return new_chi_cell\n",
    "\n",
    "\n",
    "# one-q gate\n",
    "chi_cell = data_chi['chi_cell_p']\n",
    "a,b,c,d = np.shape(chi_cell)\n",
    "print('the size of training data:',a,b,c,d)\n",
    "print(np.shape(chi_cell))\n",
    "plist =data_chi['plist']\n",
    "\n",
    "new_chi_cell = from_chi_to_NN(chi_cell)\n",
    "print('the traning data for 13 different error setups:',np.shape(new_chi_cell))"
   ]
  },
  {
   "cell_type": "code",
   "execution_count": 34,
   "id": "43c887bc",
   "metadata": {},
   "outputs": [
    {
     "name": "stdout",
     "output_type": "stream",
     "text": [
      "p_tot= 0.01\n",
      "Epoch 1, Loss: 0.58248\n",
      "Epoch 21, Loss: 0.00319\n",
      "Epoch 41, Loss: 0.00100\n",
      "Epoch 61, Loss: 0.00061\n",
      "Epoch 81, Loss: 0.00046\n",
      "Epoch 101, Loss: 0.00034\n",
      "Epoch 121, Loss: 0.00029\n",
      "Epoch 141, Loss: 0.00025\n",
      "Epoch 161, Loss: 0.00023\n",
      "Epoch 181, Loss: 0.00021\n",
      "Epoch 201, Loss: 0.00020\n",
      "Epoch 221, Loss: 0.00019\n",
      "Epoch 241, Loss: 0.00019\n",
      "Epoch 261, Loss: 0.00018\n",
      "Epoch 281, Loss: 0.00017\n",
      "Epoch 301, Loss: 0.00018\n",
      "Epoch 321, Loss: 0.00017\n",
      "Epoch 341, Loss: 0.00017\n",
      "Epoch 361, Loss: 0.00017\n",
      "Epoch 381, Loss: 0.00017\n",
      "Test Loss: 0.0002\n"
     ]
    },
    {
     "name": "stderr",
     "output_type": "stream",
     "text": [
      "/var/folders/gt/wsynvnn526b468b8m4bq36g00000gn/T/ipykernel_68126/3376511040.py:34: UserWarning: No artists with labels found to put in legend.  Note that artists whose label start with an underscore are ignored when legend() is called with no argument.\n",
      "  plt.legend()\n"
     ]
    },
    {
     "data": {
      "image/png": "[encoded data removed]",
      "text/plain": [
       "<Figure size 300x300 with 1 Axes>"
      ]
     },
     "metadata": {},
     "output_type": "display_data"
    }
   ],
   "source": [
    "# Notes: the shape of training data: (trainnum,2,2**(2N),2**(2N))\n",
    "# hyperparameters\n",
    "\n",
    "trainnum,batch_size,epochs,latent_dim = 1000,32,400,2# single-qubit case\n",
    "device = torch.device(\"cuda\" if torch.cuda.is_available() else \"cpu\")\n",
    "th = 0\n",
    "p = plist[0]# choosing one of p to play with.\n",
    "p_tot,num_kraus=p,1\n",
    "print('p_tot=',plist[th])\n",
    "num_data1 = new_chi_cell[th]#[500:][th]#\n",
    "\n",
    "indices = np.random.choice(len(num_data1), trainnum, replace=False)\n",
    "data = num_data1[indices,:, :, :]\n",
    "train_data = torch.from_numpy(data).float()#.view(-1, 7)\n",
    "\n",
    "testnum = int(100) # testing data for evaluation\n",
    "data_test =  data[:testnum,:, :, :]\n",
    "test_data = torch.from_numpy(data_test).float()\n",
    "# test_data = TensorDataset(data)\n",
    "train_loader = DataLoader(TensorDataset(train_data), batch_size=batch_size, shuffle=True)\n",
    "test_loader = DataLoader(TensorDataset(test_data), batch_size=testnum, shuffle=True)\n",
    "\n",
    "model = VAE(latent_dim,input).to(device)\n",
    "optimizer = optim.Adam(model.parameters(), lr=3e-5)\n",
    "losslist = train_vae(model, train_loader, optimizer, epochs, device)\n",
    "\n",
    "z_space  = test_vae(model, test_loader, device)\n",
    "\n",
    "plt.figure(figsize=(3,3))\n",
    "plt.plot(losslist)\n",
    "plt.yscale('log')\n",
    "plt.xlabel(\"Epochs\")\n",
    "plt.ylabel(\"Loss\")\n",
    "plt.legend()\n",
    "plt.title(\"VAE Training Loss\")\n",
    "plt.show()\n"
   ]
  },
  {
   "cell_type": "code",
   "execution_count": null,
   "id": "5cd5d27b",
   "metadata": {},
   "outputs": [],
   "source": [
    " "
   ]
  },
  {
   "cell_type": "code",
   "execution_count": 35,
   "id": "16d80817",
   "metadata": {},
   "outputs": [
    {
     "data": {
      "text/plain": [
       "<Figure size 640x480 with 0 Axes>"
      ]
     },
     "metadata": {},
     "output_type": "display_data"
    },
    {
     "data": {
      "image/png": "[encoded data removed]",
      "text/plain": [
       "<Figure size 300x200 with 2 Axes>"
      ]
     },
     "metadata": {},
     "output_type": "display_data"
    }
   ],
   "source": [
    "#=========model evaluation: the distrbution of latent space =======\n",
    "plt.figure()\n",
    "# #x = np.arange(len(z_space[0]))\n",
    "if len(z_space[0][0]) > 0:\n",
    "    z  = TSNE(n_components=2).fit_transform(z_space[0])\n",
    "else:\n",
    "    z =z_space[0]\n",
    "x,y = [z[0] for z in z_space[0]], [z[1] for z in z_space[0]]# t-SNE 降维潜在空间\n",
    "x,y = np.array(x),np.array(y)\n",
    "xy = np.vstack([x, y])\n",
    "density = gaussian_kde(xy)(xy)\n",
    "density /=np.max(density)\n",
    "\n",
    "# 创建密度等高线图\n",
    "fig, ax = plt.subplots(figsize=(3, 2))\n",
    "ax.set_title(\"Latent Space (N=\"+str(trainnum)+\")\")\n",
    "ax.set_xlabel(\"Latent Dimension 1\")\n",
    "ax.set_ylabel(\"Latent Dimension 2\")\n",
    "ax.axhline(0, color='gray', linestyle='--', alpha=0.7)\n",
    "ax.axvline(0, color='gray', linestyle='--', alpha=0.7)\n",
    "# 绘制散点并用颜色表示密度\n",
    "sc = ax.scatter(x, y, c=density, cmap=\"Blues\", s=5, alpha=0.5)\n",
    "# 生成等高线\n",
    "xmin, xmax =  x.min() *2, x.max() *2\n",
    "ymin, ymax =  y.min() *2, y.max()*2\n",
    "X, Y = np.meshgrid(np.linspace(xmin, xmax, 1000), np.linspace(ymin, ymax, 1000))\n",
    "positions = np.vstack([X.ravel(), Y.ravel()])\n",
    "Z = gaussian_kde(xy)(positions).reshape(X.shape)\n",
    "Z /= np.max(Z)\n",
    "ax.contour(X, Y, Z, levels=6, cmap=\"Blues\")\n",
    "# 添加颜色条\n",
    "plt.xticks([0])\n",
    "plt.yticks([0])\n",
    "plt.colorbar(sc, label=\"Density\")\n",
    "plt.show()\n"
   ]
  },
  {
   "cell_type": "code",
   "execution_count": 36,
   "id": "7d65cce6",
   "metadata": {},
   "outputs": [
    {
     "name": "stdout",
     "output_type": "stream",
     "text": [
      "saved model: ./VAE/save_model/1q/model_weights1000p=0.01_exp.pth\n",
      "is it Hermitian? True\n",
      "is it CPTP? True\n",
      "Generated Sample Shape: (400, 2, 4, 4)\n"
     ]
    }
   ],
   "source": [
    "#=========model evaluation: is the output of trained model CPTP ?=======\n",
    "torch.save(model.state_dict(), './VAE/save_model/'+str(N)+'q/model_weights'+str(trainnum)+'p='+str(p)+'_exp.pth')\n",
    "print('saved model:','./VAE/save_model/'+str(N)+'q/model_weights'+str(trainnum)+'p='+str(p)+'_exp.pth')\n",
    "model = VAE(latent_dim,input)\n",
    "model.load_state_dict(torch.load('./VAE/save_model/'+str(N)+'q/model_weights'+str(trainnum)+'p='+str(p)+'_exp.pth',weights_only=False))\n",
    "model.eval()\n",
    "with torch.no_grad():\n",
    "    z = torch.randn(400, latent_dim)#.to(device)  # 随机采样 latent vector\n",
    "    sample0 = model.decode(z)\n",
    "    sample1 = clean_cholesky(sample0.reshape(400,2,2**(2*N),2**(2*N)))\n",
    "    sample2 = density_matrix_from_T(sample1)\n",
    "    sample2_numpy = sample2.cpu().numpy()\n",
    "    print('is it Hermitian?',np.allclose(sample2_numpy[0],sample2_numpy[0].T.conj(),atol=1e-5))\n",
    "    print('is it CPTP?',is_CPTP_chi_np(sample2_numpy[0],N ))\n",
    "    # np.allclose(sample2_numpy[0],sample2_numpy[0].T.conj(),atol=1e-5) # 判断Hermitial\n",
    "    sample = sample0.cpu().numpy()\n",
    "print(\"Generated Sample Shape:\", np.shape(sample))\n"
   ]
  },
  {
   "cell_type": "code",
   "execution_count": 37,
   "id": "82450fba",
   "metadata": {},
   "outputs": [
    {
     "data": {
      "text/plain": [
       "<Figure size 640x480 with 0 Axes>"
      ]
     },
     "metadata": {},
     "output_type": "display_data"
    },
    {
     "data": {
      "image/png": "[encoded data removed]",
      "text/plain": [
       "<Figure size 800x200 with 20 Axes>"
      ]
     },
     "metadata": {},
     "output_type": "display_data"
    },
    {
     "data": {
      "text/plain": [
       "<Figure size 640x480 with 0 Axes>"
      ]
     },
     "metadata": {},
     "output_type": "display_data"
    },
    {
     "data": {
      "image/png": "[encoded data removed]",
      "text/plain": [
       "<Figure size 800x200 with 20 Axes>"
      ]
     },
     "metadata": {},
     "output_type": "display_data"
    }
   ],
   "source": [
    "#=========model evaluation: the comparsion between the training data and its digital twin ?=======\n",
    "images = sample #num_data1[:100]\n",
    "plt.figure()\n",
    "fig, axes = plt.subplots(2, 10, figsize=(8, 2))\n",
    "for i in range(10):\n",
    "    recons_data = images[i][0].reshape(2**(2*N),2**(2*N))#sample[i]\n",
    "    #recons_data = reconstruct_images(recons_data)\n",
    "    axes[0, i].imshow(num_data1[i, 0], cmap=\"gray\")  # 原始输入\n",
    "    axes[1, i].imshow(recons_data, cmap=\"gray\")  # 生成输出\n",
    "    axes[0, i].axis(\"off\")\n",
    "    axes[1, i].axis(\"off\")\n",
    "plt.suptitle(\"Top: Original | Bottom: Reconstructed (second layer)\")\n",
    "plt.show()\n",
    "\n",
    "plt.figure()\n",
    "fig, axes = plt.subplots(2, 10, figsize=(8, 2))\n",
    "for i in range(10):\n",
    "    #recons_data = sample[i]\n",
    "    recons_data = images[i][1].reshape(2**(2*N),2**(2*N))\n",
    "    #recons_data = reconstruct_images(recons_data)\n",
    "    axes[0, i].imshow(num_data1[i, 1], cmap=\"gray\")  # 原始输入\n",
    "    axes[1, i].imshow(recons_data, cmap=\"gray\")  # 生成输出\n",
    "    axes[0, i].axis(\"off\")\n",
    "    axes[1, i].axis(\"off\")\n",
    "plt.suptitle(\"Top: Original | Bottom: Reconstructed (second layer)\")\n",
    "plt.show()"
   ]
  },
  {
   "cell_type": "code",
   "execution_count": 39,
   "id": "7adcf6bc",
   "metadata": {},
   "outputs": [
    {
     "name": "stdout",
     "output_type": "stream",
     "text": [
      "loading: ./VAE/save_model/1q/model_weights1000p=0.01_exp.pth\n",
      "EM-QPT(with real-time error matrix): 0.9969976533856044\n",
      "ML-QPT: 0.9999597736322522\n"
     ]
    },
    {
     "name": "stderr",
     "output_type": "stream",
     "text": [
      "[Parallel(n_jobs=10)]: Using backend LokyBackend with 10 concurrent workers.\n"
     ]
    },
    {
     "name": "stdout",
     "output_type": "stream",
     "text": [
      "ML-QPT(averaged): 0.9993123022437954\n"
     ]
    },
    {
     "name": "stderr",
     "output_type": "stream",
     "text": [
      "[Parallel(n_jobs=10)]: Done   3 out of  10 | elapsed:    0.2s remaining:    0.5s\n",
      "[Parallel(n_jobs=10)]: Done  10 out of  10 | elapsed:    0.3s finished\n"
     ]
    }
   ],
   "source": [
    "'''\n",
    "#========================================================================\n",
    "#================== single-qubit gate ML-QPT============================= \n",
    "#========================================================================\n",
    "#========================================================================\n",
    "'''\n",
    "from functions import EM_QPT\n",
    "\n",
    "model_name =  './VAE/save_model/'+str(N)+'q/model_weights'+str(trainnum)+'p='+str(p)+'_exp.pth'\n",
    "print('loading:', model_name)\n",
    "# ==================== the trained model ==========================\n",
    "model = VAE(latent_dim, input)\n",
    "model.load_state_dict(torch.load(model_name, weights_only=False))  #\n",
    "model.eval()\n",
    "chi_optimized = []\n",
    "F_cell_digital = []\n",
    "with torch.no_grad():\n",
    "    z = torch.randn(10, latent_dim)  # 随机采样 latent vector\n",
    "    sample = model.decode(z).cpu().numpy()\n",
    "data_digital = sample\n",
    "\n",
    "DT_iden_list = []\n",
    "for da in data_digital:\n",
    "    re_part = da[0]#.reshape(4, 4)\n",
    "    im_part = da[1]#.reshape(4, 4)\n",
    "    DT_iden_list.append(re_part + im_part * 1j)\n",
    "digital_twin = random.choice(DT_iden_list)\n",
    "\n",
    "# ==================== the realistic identity matrix ==========================\n",
    "quantum_channel = generate_valid_cptp_kraus_operators(n_qubits=N, num_kraus=num_kraus)\n",
    "rdw = np.random.random(1)[0]\n",
    "p_reset = p_tot * rdw\n",
    "p_meas = p_tot * (1-rdw)\n",
    "\n",
    "qiskit_sim = NumExp()\n",
    "measure_data_id = qiskit_sim.get_measurement(N, p_reset, p_meas,p_tot, [np.identity(2 ** N)])\n",
    "measure_data_gate = qiskit_sim.get_measurement(N, p_reset, p_meas,p_tot, quantum_channel)\n",
    "\n",
    "\n",
    "FF_noEM,FF_EM = EM_QPT(N,quantum_channel,measure_data_gate, measure_data_id)\n",
    "print('EM-QPT(with real-time error matrix):',FF_EM)\n",
    "# The ML fidelity can be calculated by using only one digital twin\n",
    "_,FF_ML= EM_QPT(N,quantum_channel,measure_data_gate, measure_data_id,chi_digital=digital_twin)\n",
    "print('ML-QPT:',FF_ML)\n",
    "\n",
    "# or you can average the ML-fidelity from the list of digital twin\n",
    "F_cell_para_real = Parallel(n_jobs=10, verbose=2)(delayed(EM_QPT)(N,quantum_channel,measure_data_gate, measure_data_id,chi_digital=digital_twin) for digital_twin in DT_iden_list)\n",
    "FF_ML_ave = np.average([F[-1] for F in F_cell_para_real])\n",
    "print('ML-QPT(averaged):',FF_ML_ave)\n",
    " \n",
    "\n"
   ]
  }
 ],
 "metadata": {
  "kernelspec": {
   "display_name": "forQPT",
   "language": "python",
   "name": "python3"
  },
  "language_info": {
   "codemirror_mode": {
    "name": "ipython",
    "version": 3
   },
   "file_extension": ".py",
   "mimetype": "text/x-python",
   "name": "python",
   "nbconvert_exporter": "python",
   "pygments_lexer": "ipython3",
   "version": "3.11.11"
  }
 },
 "nbformat": 4,
 "nbformat_minor": 5
}
